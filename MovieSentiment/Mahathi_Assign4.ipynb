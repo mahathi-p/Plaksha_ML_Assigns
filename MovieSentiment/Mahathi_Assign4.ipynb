{
 "cells": [
  {
   "cell_type": "markdown",
   "metadata": {},
   "source": [
    "## Sentiment Classification - Movie Review Dataset"
   ]
  },
  {
   "cell_type": "markdown",
   "metadata": {},
   "source": [
    "CNNs and RNNs for Sentiment Analysis"
   ]
  },
  {
   "cell_type": "code",
   "execution_count": 1,
   "metadata": {},
   "outputs": [],
   "source": [
    "from IPython.display import HTML, display\n",
    "\n",
    "import warnings\n",
    "warnings.filterwarnings('ignore')"
   ]
  },
  {
   "cell_type": "code",
   "execution_count": 2,
   "metadata": {},
   "outputs": [
    {
     "data": {
      "text/html": [
       "<table><tr><center><td><center>CNNs<center></td><td></center>RNNs</center></td></tr><tr><td><center>Used for mainly extracting spatial fearures<center></td><td></center>Focuses on the temporal or sequence data</center></td></tr><tr><td><center>CNN extracts the most informative ngrams for the relation and only considers their resulting activations<center></td><td></center>RNN computes a weighted combination of all words in the sentence</center></td></tr><tr><td><center>Works better with Attention-based models and can also model long context dependency<center></td><td></center>Loses context during sequence to sequence structures</center></td></center></tr></table>"
      ],
      "text/plain": [
       "<IPython.core.display.HTML object>"
      ]
     },
     "metadata": {},
     "output_type": "display_data"
    }
   ],
   "source": [
    "data = [[\"CNNs\",\"RNNs\"],\n",
    "        \n",
    "        [\"Used for mainly extracting spatial fearures\" ,\"Focuses on the temporal or sequence data\"],\n",
    "        \n",
    "        [\"CNN extracts the most informative ngrams for the relation and only considers their resulting activations\",\"RNN computes a weighted combination of all words in the sentence\"],\n",
    "        \n",
    "        [\"Works better with Attention-based models and can also model long context dependency\",\"Loses context during sequence to sequence structures\"]]\n",
    "        \n",
    "      \n",
    "display(HTML(\n",
    "   '<table><tr><center>{}</center></tr></table>'.format(\n",
    "       '</tr><tr>'.join(\n",
    "           '<td><center>{}</center></td>'.format('<center></td><td></center>'.join(str(_) for _ in row)) for row in data)\n",
    "       )\n",
    "))"
   ]
  },
  {
   "cell_type": "code",
   "execution_count": 3,
   "metadata": {},
   "outputs": [],
   "source": [
    "# importing required libraries\n",
    "import numpy as np \n",
    "import pandas as pd \n",
    "import matplotlib.pyplot as plt\n",
    "%matplotlib inline"
   ]
  },
  {
   "cell_type": "code",
   "execution_count": 4,
   "metadata": {},
   "outputs": [],
   "source": [
    "import os\n",
    "from os import listdir\n",
    "import string\n",
    "from string import punctuation\n",
    "from collections import Counter\n",
    "from nltk.corpus import stopwords"
   ]
  },
  {
   "cell_type": "code",
   "execution_count": 5,
   "metadata": {},
   "outputs": [],
   "source": [
    "from sklearn.model_selection import train_test_split\n",
    "from sklearn.metrics import confusion_matrix\n",
    "from sklearn.feature_extraction.text import CountVectorizer"
   ]
  },
  {
   "cell_type": "code",
   "execution_count": 6,
   "metadata": {},
   "outputs": [
    {
     "name": "stderr",
     "output_type": "stream",
     "text": [
      "Using TensorFlow backend.\n"
     ]
    }
   ],
   "source": [
    "from keras.preprocessing.text import Tokenizer\n",
    "from keras.preprocessing.sequence import pad_sequences\n",
    "from keras import models,layers"
   ]
  },
  {
   "cell_type": "markdown",
   "metadata": {},
   "source": [
    "The data used is IMDB review data. It has two classes positive and negative."
   ]
  },
  {
   "cell_type": "code",
   "execution_count": 7,
   "metadata": {},
   "outputs": [],
   "source": [
    "train_labels = []\n",
    "train_texts = []\n",
    "\n",
    "test_labels = []\n",
    "test_texts = []\n",
    "\n",
    "train_dir = 'aclImdb/train'\n",
    "# appending all the reviews with their respective labels for training data\n",
    "for label_type in ['pos','neg']:\n",
    "    dir_name = os.path.join(train_dir,label_type)\n",
    "    for fname in os.listdir(dir_name):\n",
    "        if fname[-4:] == '.txt':\n",
    "            f = open(os.path.join(dir_name,fname), encoding=\"utf8\")\n",
    "            train_texts.append(f.read())\n",
    "            f.close()\n",
    "            if label_type == 'neg':\n",
    "                train_labels.append(0)\n",
    "            else:\n",
    "                train_labels.append(1)\n"
   ]
  },
  {
   "cell_type": "code",
   "execution_count": 8,
   "metadata": {},
   "outputs": [],
   "source": [
    "\n",
    "test_dir = 'aclImdb/test'\n",
    "# appending all the reviews with their respective labels for testing data\n",
    "for label_type in ['pos','neg']:\n",
    "    dir_name = os.path.join(test_dir,label_type)\n",
    "    for fname in os.listdir(dir_name):\n",
    "        if fname[-4:] == '.txt':\n",
    "            f = open(os.path.join(dir_name,fname), encoding=\"utf8\")\n",
    "            test_texts.append(f.read())\n",
    "            f.close()\n",
    "            if label_type == 'neg':\n",
    "                test_labels.append(0)\n",
    "            else:\n",
    "                test_labels.append(1)\n"
   ]
  },
  {
   "cell_type": "code",
   "execution_count": 9,
   "metadata": {},
   "outputs": [
    {
     "data": {
      "text/html": [
       "<div>\n",
       "<style scoped>\n",
       "    .dataframe tbody tr th:only-of-type {\n",
       "        vertical-align: middle;\n",
       "    }\n",
       "\n",
       "    .dataframe tbody tr th {\n",
       "        vertical-align: top;\n",
       "    }\n",
       "\n",
       "    .dataframe thead th {\n",
       "        text-align: right;\n",
       "    }\n",
       "</style>\n",
       "<table border=\"1\" class=\"dataframe\">\n",
       "  <thead>\n",
       "    <tr style=\"text-align: right;\">\n",
       "      <th></th>\n",
       "      <th>texts</th>\n",
       "      <th>labels</th>\n",
       "    </tr>\n",
       "  </thead>\n",
       "  <tbody>\n",
       "    <tr>\n",
       "      <td>0</td>\n",
       "      <td>Bromwell High is a cartoon comedy. It ran at t...</td>\n",
       "      <td>1</td>\n",
       "    </tr>\n",
       "    <tr>\n",
       "      <td>1</td>\n",
       "      <td>Homelessness (or Houselessness as George Carli...</td>\n",
       "      <td>1</td>\n",
       "    </tr>\n",
       "    <tr>\n",
       "      <td>2</td>\n",
       "      <td>Brilliant over-acting by Lesley Ann Warren. Be...</td>\n",
       "      <td>1</td>\n",
       "    </tr>\n",
       "    <tr>\n",
       "      <td>3</td>\n",
       "      <td>This is easily the most underrated film inn th...</td>\n",
       "      <td>1</td>\n",
       "    </tr>\n",
       "    <tr>\n",
       "      <td>4</td>\n",
       "      <td>This is not the typical Mel Brooks film. It wa...</td>\n",
       "      <td>1</td>\n",
       "    </tr>\n",
       "  </tbody>\n",
       "</table>\n",
       "</div>"
      ],
      "text/plain": [
       "                                               texts  labels\n",
       "0  Bromwell High is a cartoon comedy. It ran at t...       1\n",
       "1  Homelessness (or Houselessness as George Carli...       1\n",
       "2  Brilliant over-acting by Lesley Ann Warren. Be...       1\n",
       "3  This is easily the most underrated film inn th...       1\n",
       "4  This is not the typical Mel Brooks film. It wa...       1"
      ]
     },
     "execution_count": 9,
     "metadata": {},
     "output_type": "execute_result"
    }
   ],
   "source": [
    "# converting into a dataframe\n",
    "texts_df = pd.DataFrame({'texts': train_texts,\n",
    "                        'labels':train_labels})\n",
    "texts_df.head()"
   ]
  },
  {
   "cell_type": "code",
   "execution_count": 10,
   "metadata": {},
   "outputs": [],
   "source": [
    "import nltk\n",
    "from nltk.corpus import stopwords"
   ]
  },
  {
   "cell_type": "code",
   "execution_count": 11,
   "metadata": {},
   "outputs": [],
   "source": [
    "word_counts = texts_df['texts'].apply(lambda x: len(x.split()))"
   ]
  },
  {
   "cell_type": "code",
   "execution_count": 12,
   "metadata": {},
   "outputs": [],
   "source": [
    "# forming the whole dictionary of all the words in the reviews\n",
    "corpus = texts_df['texts'].apply(lambda x: x.split()).tolist()"
   ]
  },
  {
   "cell_type": "code",
   "execution_count": 13,
   "metadata": {},
   "outputs": [],
   "source": [
    "# removing the common stop words and vectorizing the words\n",
    "count_vect = CountVectorizer(stop_words=stopwords.words('english'))\n",
    "bag_of_words = count_vect.fit_transform(texts_df['texts'])\n"
   ]
  },
  {
   "cell_type": "code",
   "execution_count": null,
   "metadata": {},
   "outputs": [],
   "source": []
  },
  {
   "cell_type": "code",
   "execution_count": 14,
   "metadata": {},
   "outputs": [],
   "source": [
    "# checking the frequency of the words\n",
    "sum_words = bag_of_words.sum(axis=0) \n",
    "words_freq = [(word, sum_words[0, idx]) for word, idx in count_vect.vocabulary_.items()]\n",
    "words_freq =sorted(words_freq, key = lambda x: x[1], reverse=True)"
   ]
  },
  {
   "cell_type": "code",
   "execution_count": 15,
   "metadata": {},
   "outputs": [],
   "source": [
    "# observing the high frequency words\n",
    "top_30_words = words_freq[:30]\n",
    "top_word_list = []\n",
    "top_count_list = []\n",
    "for item in top_30_words:\n",
    "    top_word_list.append(item[0])\n",
    "    top_count_list.append(item[1])"
   ]
  },
  {
   "cell_type": "code",
   "execution_count": 16,
   "metadata": {},
   "outputs": [
    {
     "name": "stdout",
     "output_type": "stream",
     "text": [
      "[101871, 44047, 40159, 26795, 20281, 15147]\n"
     ]
    }
   ],
   "source": [
    "print(top_count_list[0:6])"
   ]
  },
  {
   "cell_type": "code",
   "execution_count": 17,
   "metadata": {},
   "outputs": [
    {
     "name": "stdout",
     "output_type": "stream",
     "text": [
      "['br', 'movie', 'film', 'one', 'like', 'good']\n"
     ]
    }
   ],
   "source": [
    "print(top_word_list[0:6])"
   ]
  },
  {
   "cell_type": "code",
   "execution_count": 18,
   "metadata": {},
   "outputs": [],
   "source": [
    "# adding the most occuring words as stop words\n",
    "my_stop_words = stopwords.words('english')+(top_word_list[0:6])"
   ]
  },
  {
   "cell_type": "code",
   "execution_count": 19,
   "metadata": {},
   "outputs": [],
   "source": [
    "# vectorizing the words again \n",
    "count_vect = CountVectorizer(stop_words=my_stop_words)\n",
    "bag_of_words = count_vect.fit_transform(texts_df['texts'])"
   ]
  },
  {
   "cell_type": "code",
   "execution_count": 20,
   "metadata": {},
   "outputs": [],
   "source": [
    "MAX_LENGTH = 500\n",
    "MAX_WORDS = 20000\n",
    "EMBENDING_DIM = 100"
   ]
  },
  {
   "cell_type": "code",
   "execution_count": 21,
   "metadata": {},
   "outputs": [],
   "source": [
    "# forming tokens of the train data\n",
    "tokenizer = Tokenizer(num_words=MAX_WORDS)\n",
    "tokenizer.fit_on_texts(train_texts)\n",
    "sequences = tokenizer.texts_to_sequences(train_texts)"
   ]
  },
  {
   "cell_type": "code",
   "execution_count": 22,
   "metadata": {},
   "outputs": [
    {
     "name": "stdout",
     "output_type": "stream",
     "text": [
      "number of tokens:  88582\n"
     ]
    }
   ],
   "source": [
    "print('number of tokens: ', len(tokenizer.word_counts))"
   ]
  },
  {
   "cell_type": "code",
   "execution_count": 23,
   "metadata": {
    "scrolled": true
   },
   "outputs": [],
   "source": [
    "# padding words with a smaller length\n",
    "train_data = pad_sequences(sequences,maxlen=MAX_LENGTH)\n",
    "labels = np.array(train_labels)"
   ]
  },
  {
   "cell_type": "code",
   "execution_count": 24,
   "metadata": {},
   "outputs": [],
   "source": [
    "# train val split\n",
    "X_train, X_val, y_train, y_val = train_test_split(train_data,labels,test_size=0.2,random_state=42)"
   ]
  },
  {
   "cell_type": "code",
   "execution_count": 25,
   "metadata": {},
   "outputs": [
    {
     "name": "stdout",
     "output_type": "stream",
     "text": [
      "Found 400000 word vectors\n"
     ]
    }
   ],
   "source": [
    "# loading the glove embeddings - the words and their corresponding vectors\n",
    "glove_dir = \"glove.6B.100d.txt\"\n",
    "embedding_index = {}\n",
    "f = open(glove_dir, encoding='utf-8')\n",
    "for line in f:\n",
    "    values = line.split()\n",
    "    word = values[0]\n",
    "    vector = np.array(values[1:], dtype='float32')\n",
    "    embedding_index[word] = vector\n",
    "f.close()\n",
    "\n",
    "print(f'Found {len(embedding_index)} word vectors')"
   ]
  },
  {
   "cell_type": "code",
   "execution_count": 26,
   "metadata": {},
   "outputs": [
    {
     "data": {
      "text/plain": [
       "array([-0.42142,  0.53956, -0.26822, -0.24366, -0.62731,  0.89743,\n",
       "       -0.57398,  0.92691, -0.37078, -0.72003], dtype=float32)"
      ]
     },
     "execution_count": 26,
     "metadata": {},
     "output_type": "execute_result"
    }
   ],
   "source": [
    "embedding_index['sit'][:10]"
   ]
  },
  {
   "cell_type": "code",
   "execution_count": 27,
   "metadata": {},
   "outputs": [],
   "source": [
    "embedding_matrix = np.zeros((MAX_WORDS,EMBENDING_DIM))"
   ]
  },
  {
   "cell_type": "code",
   "execution_count": 28,
   "metadata": {},
   "outputs": [],
   "source": [
    "# creating an embedding matrix for the words present in the vocabulary\n",
    "for word, i in (tokenizer.word_index).items():\n",
    "    if i < MAX_WORDS:\n",
    "        embedding_vector = embedding_index.get(word)\n",
    "        if embedding_vector is not None:\n",
    "            embedding_matrix[i] = embedding_vector"
   ]
  },
  {
   "cell_type": "code",
   "execution_count": 29,
   "metadata": {},
   "outputs": [],
   "source": [
    "# converting matrix into dataframe\n",
    "#embedding_df = pd.DataFrame(embedding_matrix)"
   ]
  },
  {
   "cell_type": "code",
   "execution_count": 30,
   "metadata": {},
   "outputs": [],
   "source": [
    "# importing libraries for creating a model\n",
    "import tensorflow as tf\n",
    "import keras\n",
    "from keras.preprocessing.text import Tokenizer\n",
    "from keras.preprocessing.sequence import pad_sequences\n",
    "from keras.layers import Embedding"
   ]
  },
  {
   "cell_type": "code",
   "execution_count": 31,
   "metadata": {},
   "outputs": [
    {
     "name": "stdout",
     "output_type": "stream",
     "text": [
      "Model: \"sequential_1\"\n",
      "_________________________________________________________________\n",
      "Layer (type)                 Output Shape              Param #   \n",
      "=================================================================\n",
      "embedding_1 (Embedding)      (None, 500, 100)          2000000   \n",
      "_________________________________________________________________\n",
      "lstm_1 (LSTM)                (None, 32)                17024     \n",
      "_________________________________________________________________\n",
      "dense_1 (Dense)              (None, 1)                 33        \n",
      "=================================================================\n",
      "Total params: 2,017,057\n",
      "Trainable params: 2,017,057\n",
      "Non-trainable params: 0\n",
      "_________________________________________________________________\n"
     ]
    }
   ],
   "source": [
    "# defining a LSTM model\n",
    "model = models.Sequential()\n",
    "model.add(layers.Embedding(MAX_WORDS,EMBENDING_DIM, input_length=MAX_LENGTH))\n",
    "model.add(layers.LSTM(32))\n",
    "model.add(layers.Dense(1,activation='sigmoid'))\n",
    "model.summary()"
   ]
  },
  {
   "cell_type": "code",
   "execution_count": 32,
   "metadata": {},
   "outputs": [],
   "source": [
    "# setting the weights if the embedding layer\n",
    "model.layers[0].set_weights([embedding_matrix])\n",
    "model.layers[0].trainable = False"
   ]
  },
  {
   "cell_type": "code",
   "execution_count": 33,
   "metadata": {},
   "outputs": [],
   "source": [
    "model.compile(optimizer='rmsprop', \n",
    "              loss='binary_crossentropy',\n",
    "              metrics=['acc'])\n",
    "\n",
    "model.save_weights('pre_trained_glove_model.h5')"
   ]
  },
  {
   "cell_type": "code",
   "execution_count": 34,
   "metadata": {},
   "outputs": [
    {
     "data": {
      "image/png": "[encoded data removed]",
      "text/plain": [
       "<IPython.core.display.Image object>"
      ]
     },
     "execution_count": 34,
     "metadata": {},
     "output_type": "execute_result"
    }
   ],
   "source": [
    "keras.utils.plot_model(model, show_shapes=True, show_layer_names=True, to_file='sentiment_analysis_imdb.png')"
   ]
  },
  {
   "cell_type": "code",
   "execution_count": 35,
   "metadata": {},
   "outputs": [
    {
     "name": "stdout",
     "output_type": "stream",
     "text": [
      "Train on 20000 samples, validate on 5000 samples\n",
      "Epoch 1/10\n",
      "20000/20000 [==============================] - 78s 4ms/step - loss: 0.5794 - acc: 0.6959 - val_loss: 0.4901 - val_acc: 0.7664\n",
      "Epoch 2/10\n",
      "20000/20000 [==============================] - 81s 4ms/step - loss: 0.4543 - acc: 0.7936 - val_loss: 0.4228 - val_acc: 0.8002\n",
      "Epoch 3/10\n",
      "20000/20000 [==============================] - 91s 5ms/step - loss: 0.3941 - acc: 0.8279 - val_loss: 0.4264 - val_acc: 0.7944\n",
      "Epoch 4/10\n",
      "20000/20000 [==============================] - 98s 5ms/step - loss: 0.3521 - acc: 0.8505 - val_loss: 0.3492 - val_acc: 0.8570\n",
      "Epoch 5/10\n",
      "20000/20000 [==============================] - 100s 5ms/step - loss: 0.3265 - acc: 0.8647 - val_loss: 0.3171 - val_acc: 0.8722\n",
      "Epoch 6/10\n",
      "20000/20000 [==============================] - 100s 5ms/step - loss: 0.3068 - acc: 0.8718 - val_loss: 0.3115 - val_acc: 0.8754\n",
      "Epoch 7/10\n",
      "20000/20000 [==============================] - 100s 5ms/step - loss: 0.2887 - acc: 0.8839 - val_loss: 0.3274 - val_acc: 0.8706\n",
      "Epoch 8/10\n",
      "20000/20000 [==============================] - 100s 5ms/step - loss: 0.2739 - acc: 0.8903 - val_loss: 0.3333 - val_acc: 0.8646\n",
      "Epoch 9/10\n",
      "20000/20000 [==============================] - 101s 5ms/step - loss: 0.2618 - acc: 0.8960 - val_loss: 0.2978 - val_acc: 0.8766\n",
      "Epoch 10/10\n",
      "20000/20000 [==============================] - 101s 5ms/step - loss: 0.2495 - acc: 0.8992 - val_loss: 0.2981 - val_acc: 0.8808\n"
     ]
    }
   ],
   "source": [
    "history = model.fit(X_train, y_train,\n",
    "                    epochs=10,\n",
    "                    batch_size=32,\n",
    "                    validation_data=(X_val, y_val))"
   ]
  },
  {
   "cell_type": "code",
   "execution_count": 36,
   "metadata": {},
   "outputs": [],
   "source": [
    "# creating tokens of the test data and padding all inputs to a common length\n",
    "test_sequences = tokenizer.texts_to_sequences(test_texts)\n",
    "test_data = pad_sequences(test_sequences,maxlen=MAX_LENGTH)\n",
    "test_labels = np.array(test_labels)"
   ]
  },
  {
   "cell_type": "code",
   "execution_count": 37,
   "metadata": {},
   "outputs": [],
   "source": [
    "# predicting the test data\n",
    "predictions = model.predict(test_data)"
   ]
  },
  {
   "cell_type": "code",
   "execution_count": 38,
   "metadata": {},
   "outputs": [
    {
     "data": {
      "text/plain": [
       "25000"
      ]
     },
     "execution_count": 38,
     "metadata": {},
     "output_type": "execute_result"
    }
   ],
   "source": [
    "len(predictions)"
   ]
  },
  {
   "cell_type": "code",
   "execution_count": 39,
   "metadata": {},
   "outputs": [],
   "source": [
    "pred_proba = model.predict_proba(test_data)"
   ]
  },
  {
   "cell_type": "code",
   "execution_count": 40,
   "metadata": {},
   "outputs": [
    {
     "data": {
      "text/plain": [
       "array([ True])"
      ]
     },
     "execution_count": 40,
     "metadata": {},
     "output_type": "execute_result"
    }
   ],
   "source": [
    "# generating the labels of the predictions - positive or negative class\n",
    "pred_labels  = (predictions>0.5)\n",
    "pred_labels[0]"
   ]
  },
  {
   "cell_type": "code",
   "execution_count": 41,
   "metadata": {},
   "outputs": [],
   "source": [
    "import seaborn as sns"
   ]
  },
  {
   "cell_type": "code",
   "execution_count": 42,
   "metadata": {},
   "outputs": [
    {
     "data": {
      "text/plain": [
       "Text(15.380000000000003, 0.5, 'predicted label')"
      ]
     },
     "execution_count": 42,
     "metadata": {},
     "output_type": "execute_result"
    },
    {
     "data": {
      "image/png": "[encoded data removed]",
      "text/plain": [
       "<Figure size 288x288 with 1 Axes>"
      ]
     },
     "metadata": {
      "needs_background": "light"
     },
     "output_type": "display_data"
    }
   ],
   "source": [
    "# creating a confusion matrix\n",
    "mat = confusion_matrix(pred_labels, test_labels)\n",
    "plt.figure(figsize=(4, 4))\n",
    "sns.set()\n",
    "sns.heatmap(mat.T, square=True, annot=True, fmt='d', cbar=False,\n",
    "            xticklabels=np.unique(test_labels),\n",
    "            yticklabels=np.unique(test_labels))\n",
    "plt.xlabel('true label')\n",
    "plt.ylabel('predicted label')"
   ]
  },
  {
   "cell_type": "code",
   "execution_count": null,
   "metadata": {},
   "outputs": [],
   "source": []
  },
  {
   "cell_type": "code",
   "execution_count": null,
   "metadata": {},
   "outputs": [],
   "source": []
  },
  {
   "cell_type": "code",
   "execution_count": null,
   "metadata": {},
   "outputs": [],
   "source": []
  },
  {
   "cell_type": "code",
   "execution_count": null,
   "metadata": {},
   "outputs": [],
   "source": []
  }
 ],
 "metadata": {
  "kernelspec": {
   "display_name": "Python 3",
   "language": "python",
   "name": "python3"
  },
  "language_info": {
   "codemirror_mode": {
    "name": "ipython",
    "version": 3
   },
   "file_extension": ".py",
   "mimetype": "text/x-python",
   "name": "python",
   "nbconvert_exporter": "python",
   "pygments_lexer": "ipython3",
   "version": "3.7.4"
  }
 },
 "nbformat": 4,
 "nbformat_minor": 2
}
