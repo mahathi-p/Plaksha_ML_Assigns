{
 "cells": [
  {
   "cell_type": "markdown",
   "metadata": {},
   "source": [
    "## 1. Predictions of Infosys Stock Data"
   ]
  },
  {
   "cell_type": "markdown",
   "metadata": {},
   "source": [
    "The 2017-2018 data is taken and trained and this model is used to predict the stock of price of the first day of 2019. From then on the current day price is fed into the model to predict the next day price."
   ]
  },
  {
   "cell_type": "code",
   "execution_count": 1,
   "metadata": {},
   "outputs": [
    {
     "name": "stderr",
     "output_type": "stream",
     "text": [
      "Using TensorFlow backend.\n"
     ]
    }
   ],
   "source": [
    "#importing required libraries\n",
    "import pandas as pd\n",
    "import matplotlib.pyplot as plt\n",
    "from sklearn.preprocessing import MinMaxScaler\n",
    "import numpy as np\n",
    "from keras.models import Sequential\n",
    "from keras.layers import Dense,LSTM,Dropout\n",
    "import math\n",
    "from sklearn.metrics import mean_squared_error\n",
    "%matplotlib inline"
   ]
  },
  {
   "cell_type": "code",
   "execution_count": 2,
   "metadata": {
    "scrolled": true
   },
   "outputs": [
    {
     "data": {
      "text/html": [
       "<div>\n",
       "<style scoped>\n",
       "    .dataframe tbody tr th:only-of-type {\n",
       "        vertical-align: middle;\n",
       "    }\n",
       "\n",
       "    .dataframe tbody tr th {\n",
       "        vertical-align: top;\n",
       "    }\n",
       "\n",
       "    .dataframe thead th {\n",
       "        text-align: right;\n",
       "    }\n",
       "</style>\n",
       "<table border=\"1\" class=\"dataframe\">\n",
       "  <thead>\n",
       "    <tr style=\"text-align: right;\">\n",
       "      <th></th>\n",
       "      <th>Date</th>\n",
       "      <th>Open</th>\n",
       "      <th>High</th>\n",
       "      <th>Low</th>\n",
       "      <th>Close</th>\n",
       "      <th>Adj Close</th>\n",
       "      <th>Volume</th>\n",
       "    </tr>\n",
       "  </thead>\n",
       "  <tbody>\n",
       "    <tr>\n",
       "      <td>489</td>\n",
       "      <td>2018-12-24</td>\n",
       "      <td>657.000000</td>\n",
       "      <td>658.799988</td>\n",
       "      <td>647.599976</td>\n",
       "      <td>649.000000</td>\n",
       "      <td>625.419800</td>\n",
       "      <td>8379825</td>\n",
       "    </tr>\n",
       "    <tr>\n",
       "      <td>490</td>\n",
       "      <td>2018-12-26</td>\n",
       "      <td>647.000000</td>\n",
       "      <td>647.000000</td>\n",
       "      <td>637.349976</td>\n",
       "      <td>644.049988</td>\n",
       "      <td>620.649658</td>\n",
       "      <td>6178552</td>\n",
       "    </tr>\n",
       "    <tr>\n",
       "      <td>491</td>\n",
       "      <td>2018-12-27</td>\n",
       "      <td>652.750000</td>\n",
       "      <td>663.250000</td>\n",
       "      <td>649.000000</td>\n",
       "      <td>656.799988</td>\n",
       "      <td>632.936340</td>\n",
       "      <td>15333902</td>\n",
       "    </tr>\n",
       "    <tr>\n",
       "      <td>492</td>\n",
       "      <td>2018-12-28</td>\n",
       "      <td>663.349976</td>\n",
       "      <td>663.500000</td>\n",
       "      <td>653.299988</td>\n",
       "      <td>656.950012</td>\n",
       "      <td>633.080933</td>\n",
       "      <td>4736598</td>\n",
       "    </tr>\n",
       "    <tr>\n",
       "      <td>493</td>\n",
       "      <td>2018-12-31</td>\n",
       "      <td>660.000000</td>\n",
       "      <td>662.000000</td>\n",
       "      <td>655.799988</td>\n",
       "      <td>658.950012</td>\n",
       "      <td>635.008240</td>\n",
       "      <td>3373319</td>\n",
       "    </tr>\n",
       "  </tbody>\n",
       "</table>\n",
       "</div>"
      ],
      "text/plain": [
       "           Date        Open        High         Low       Close   Adj Close  \\\n",
       "489  2018-12-24  657.000000  658.799988  647.599976  649.000000  625.419800   \n",
       "490  2018-12-26  647.000000  647.000000  637.349976  644.049988  620.649658   \n",
       "491  2018-12-27  652.750000  663.250000  649.000000  656.799988  632.936340   \n",
       "492  2018-12-28  663.349976  663.500000  653.299988  656.950012  633.080933   \n",
       "493  2018-12-31  660.000000  662.000000  655.799988  658.950012  635.008240   \n",
       "\n",
       "       Volume  \n",
       "489   8379825  \n",
       "490   6178552  \n",
       "491  15333902  \n",
       "492   4736598  \n",
       "493   3373319  "
      ]
     },
     "execution_count": 2,
     "metadata": {},
     "output_type": "execute_result"
    }
   ],
   "source": [
    "dataset = pd.read_csv('INFY.NS.csv')\n",
    "dataset = dataset.drop(dataset.index[0])#index is dropped\n",
    "dataset.tail()"
   ]
  },
  {
   "cell_type": "markdown",
   "metadata": {},
   "source": [
    "NOTE: number of days is 493 and not 365*2 as Saturday and Sundays stock price is not calculated."
   ]
  },
  {
   "cell_type": "code",
   "execution_count": 3,
   "metadata": {},
   "outputs": [
    {
     "data": {
      "text/plain": [
       "(493, 7)"
      ]
     },
     "execution_count": 3,
     "metadata": {},
     "output_type": "execute_result"
    }
   ],
   "source": [
    "dataset.shape"
   ]
  },
  {
   "cell_type": "code",
   "execution_count": 4,
   "metadata": {},
   "outputs": [
    {
     "data": {
      "text/plain": [
       "1      496.924988\n",
       "2      498.875000\n",
       "3      498.075012\n",
       "4      486.125000\n",
       "5      485.174988\n",
       "          ...    \n",
       "489    649.000000\n",
       "490    644.049988\n",
       "491    656.799988\n",
       "492    656.950012\n",
       "493    658.950012\n",
       "Name: Close, Length: 493, dtype: float64"
      ]
     },
     "execution_count": 4,
     "metadata": {},
     "output_type": "execute_result"
    }
   ],
   "source": [
    "#Close Data\n",
    "dataset.iloc[:,4]"
   ]
  },
  {
   "cell_type": "code",
   "execution_count": 5,
   "metadata": {},
   "outputs": [
    {
     "name": "stdout",
     "output_type": "stream",
     "text": [
      "1    496.924988\n",
      "2    498.875000\n",
      "3    498.075012\n",
      "4    486.125000\n",
      "5    485.174988\n",
      "Name: Close, dtype: float64\n",
      "2    498.875000\n",
      "3    498.075012\n",
      "4    486.125000\n",
      "5    485.174988\n",
      "6    485.274994\n",
      "Name: Close, dtype: float64\n"
     ]
    }
   ],
   "source": [
    "# defining the input as data and output(1 day lag of input) as target\n",
    "lag=1\n",
    "data = dataset.iloc[:493-lag,4]\n",
    "target = dataset.iloc[lag:493+lag,4]\n",
    "print(data.head())\n",
    "print(target.head())"
   ]
  },
  {
   "cell_type": "code",
   "execution_count": 6,
   "metadata": {},
   "outputs": [
    {
     "name": "stdout",
     "output_type": "stream",
     "text": [
      "(492,)\n",
      "(492,)\n"
     ]
    }
   ],
   "source": [
    "#shape of the data\n",
    "print(data.shape)\n",
    "print(target.shape)"
   ]
  },
  {
   "cell_type": "code",
   "execution_count": 7,
   "metadata": {},
   "outputs": [
    {
     "name": "stdout",
     "output_type": "stream",
     "text": [
      "[[0.19430542]\n",
      " [0.20059681]\n",
      " [0.19801581]\n",
      " [0.15946114]\n",
      " [0.15639603]\n",
      " [0.15671873]\n",
      " [0.1543796 ]\n",
      " [0.20430708]\n",
      " [0.16518784]\n",
      " [0.13268268]]\n"
     ]
    }
   ],
   "source": [
    "#convert input in numpy array and normalizing it\n",
    "data=data.values.reshape(493-lag,1)\n",
    "data = data.astype('float32')\n",
    "scaler = MinMaxScaler(feature_range=(0, 1))\n",
    "data_n = scaler.fit_transform(data)#normalized data\n",
    "print(data_n[:10])"
   ]
  },
  {
   "cell_type": "code",
   "execution_count": 8,
   "metadata": {},
   "outputs": [
    {
     "name": "stdout",
     "output_type": "stream",
     "text": [
      "[[0.20059682]\n",
      " [0.1980158 ]\n",
      " [0.15946116]\n",
      " [0.15639611]\n",
      " [0.15671876]\n",
      " [0.15437966]\n",
      " [0.20430708]\n",
      " [0.16518787]\n",
      " [0.13268269]\n",
      " [0.13227939]]\n"
     ]
    }
   ],
   "source": [
    "#convert target in numpy array and normalizing it\n",
    "target =target.values\n",
    "target_n = scaler.fit_transform(target.reshape(-1,1))#normalized\n",
    "print(target_n[:10])"
   ]
  },
  {
   "cell_type": "code",
   "execution_count": 9,
   "metadata": {},
   "outputs": [
    {
     "name": "stdout",
     "output_type": "stream",
     "text": [
      "[[[0.19430542]]\n",
      "\n",
      " [[0.20059681]]\n",
      "\n",
      " [[0.19801581]]\n",
      "\n",
      " [[0.15946114]]\n",
      "\n",
      " [[0.15639603]]]\n"
     ]
    }
   ],
   "source": [
    "#converting the shape in the way machine will take for training\n",
    "data_n = np.reshape(data_n,(data_n.shape[0],1,data_n.shape[1]))\n",
    "print(data_n[:5])"
   ]
  },
  {
   "cell_type": "code",
   "execution_count": 10,
   "metadata": {},
   "outputs": [],
   "source": [
    "#Defining LSTM Model\n",
    "model = Sequential()\n",
    "model.add(LSTM(128, input_shape=(1,1)))\n",
    "model.add(Dense(1))\n",
    "model.compile(loss='mean_squared_error', optimizer='sgd')"
   ]
  },
  {
   "cell_type": "code",
   "execution_count": 11,
   "metadata": {},
   "outputs": [
    {
     "name": "stdout",
     "output_type": "stream",
     "text": [
      "Epoch 1/50\n",
      "492/492 [==============================] - 2s 4ms/step - loss: 0.0813\n",
      "Epoch 2/50\n",
      "492/492 [==============================] - 2s 4ms/step - loss: 0.0556\n",
      "Epoch 3/50\n",
      "492/492 [==============================] - 2s 4ms/step - loss: 0.0416\n",
      "Epoch 4/50\n",
      "492/492 [==============================] - 2s 4ms/step - loss: 0.0293\n",
      "Epoch 5/50\n",
      "492/492 [==============================] - 2s 4ms/step - loss: 0.0196\n",
      "Epoch 6/50\n",
      "492/492 [==============================] - 2s 4ms/step - loss: 0.0122\n",
      "Epoch 7/50\n",
      "492/492 [==============================] - 2s 4ms/step - loss: 0.0074\n",
      "Epoch 8/50\n",
      "492/492 [==============================] - 2s 4ms/step - loss: 0.0043\n",
      "Epoch 9/50\n",
      "492/492 [==============================] - 2s 3ms/step - loss: 0.0026\n",
      "Epoch 10/50\n",
      "492/492 [==============================] - 2s 4ms/step - loss: 0.0017\n",
      "Epoch 11/50\n",
      "492/492 [==============================] - 2s 5ms/step - loss: 0.0012\n",
      "Epoch 12/50\n",
      "492/492 [==============================] - 2s 4ms/step - loss: 9.7958e-04\n",
      "Epoch 13/50\n",
      "492/492 [==============================] - 2s 5ms/step - loss: 8.5442e-04\n",
      "Epoch 14/50\n",
      "492/492 [==============================] - 2s 5ms/step - loss: 8.0619e-04\n",
      "Epoch 15/50\n",
      "492/492 [==============================] - 2s 5ms/step - loss: 7.8912e-04\n",
      "Epoch 16/50\n",
      "492/492 [==============================] - 2s 4ms/step - loss: 7.7250e-04\n",
      "Epoch 17/50\n",
      "492/492 [==============================] - 2s 4ms/step - loss: 7.6589e-04\n",
      "Epoch 18/50\n",
      "492/492 [==============================] - 2s 4ms/step - loss: 7.6466e-04\n",
      "Epoch 19/50\n",
      "492/492 [==============================] - 2s 4ms/step - loss: 7.6983e-04\n",
      "Epoch 20/50\n",
      "492/492 [==============================] - 2s 4ms/step - loss: 7.6187e-04\n",
      "Epoch 21/50\n",
      "492/492 [==============================] - 2s 4ms/step - loss: 7.6470e-04\n",
      "Epoch 22/50\n",
      "492/492 [==============================] - 2s 5ms/step - loss: 7.6237e-04\n",
      "Epoch 23/50\n",
      "492/492 [==============================] - 3s 6ms/step - loss: 7.6574e-04\n",
      "Epoch 24/50\n",
      "492/492 [==============================] - 3s 6ms/step - loss: 7.6424e-04\n",
      "Epoch 25/50\n",
      "492/492 [==============================] - 2s 4ms/step - loss: 7.6554e-04\n",
      "Epoch 26/50\n",
      "492/492 [==============================] - 2s 4ms/step - loss: 7.5883e-04\n",
      "Epoch 27/50\n",
      "492/492 [==============================] - 3s 6ms/step - loss: 7.6812e-04\n",
      "Epoch 28/50\n",
      "492/492 [==============================] - 3s 6ms/step - loss: 7.6845e-04\n",
      "Epoch 29/50\n",
      "492/492 [==============================] - 3s 6ms/step - loss: 7.5972e-04\n",
      "Epoch 30/50\n",
      "492/492 [==============================] - 3s 6ms/step - loss: 7.6653e-04\n",
      "Epoch 31/50\n",
      "492/492 [==============================] - 3s 6ms/step - loss: 7.6315e-04\n",
      "Epoch 32/50\n",
      "492/492 [==============================] - 3s 6ms/step - loss: 7.6527e-04\n",
      "Epoch 33/50\n",
      "492/492 [==============================] - 3s 6ms/step - loss: 7.6110e-04\n",
      "Epoch 34/50\n",
      "492/492 [==============================] - 2s 4ms/step - loss: 7.6146e-04\n",
      "Epoch 35/50\n",
      "492/492 [==============================] - 3s 5ms/step - loss: 7.5890e-04\n",
      "Epoch 36/50\n",
      "492/492 [==============================] - 3s 6ms/step - loss: 7.6687e-04\n",
      "Epoch 37/50\n",
      "492/492 [==============================] - 3s 5ms/step - loss: 7.6639e-04\n",
      "Epoch 38/50\n",
      "492/492 [==============================] - 2s 3ms/step - loss: 7.6016e-04\n",
      "Epoch 39/50\n",
      "492/492 [==============================] - 2s 4ms/step - loss: 7.6764e-04\n",
      "Epoch 40/50\n",
      "492/492 [==============================] - 2s 4ms/step - loss: 7.6124e-04\n",
      "Epoch 41/50\n",
      "492/492 [==============================] - 2s 4ms/step - loss: 7.6868e-04\n",
      "Epoch 42/50\n",
      "492/492 [==============================] - 2s 4ms/step - loss: 7.6062e-04\n",
      "Epoch 43/50\n",
      "492/492 [==============================] - 2s 4ms/step - loss: 7.6522e-04\n",
      "Epoch 44/50\n",
      "492/492 [==============================] - 2s 4ms/step - loss: 7.6560e-04\n",
      "Epoch 45/50\n",
      "492/492 [==============================] - 2s 4ms/step - loss: 7.6025e-04\n",
      "Epoch 46/50\n",
      "492/492 [==============================] - 2s 4ms/step - loss: 7.6165e-04\n",
      "Epoch 47/50\n",
      "492/492 [==============================] - 2s 4ms/step - loss: 7.6238e-04\n",
      "Epoch 48/50\n",
      "492/492 [==============================] - 2s 4ms/step - loss: 7.6301e-04\n",
      "Epoch 49/50\n",
      "492/492 [==============================] - 2s 4ms/step - loss: 7.6016e-04\n",
      "Epoch 50/50\n",
      "492/492 [==============================] - 2s 4ms/step - loss: 7.5584e-04\n"
     ]
    },
    {
     "data": {
      "text/plain": [
       "<keras.callbacks.callbacks.History at 0x265e8a35a08>"
      ]
     },
     "execution_count": 11,
     "metadata": {},
     "output_type": "execute_result"
    }
   ],
   "source": [
    "#data is trained here\n",
    "model.fit(data_n, target_n, epochs=50, batch_size=1, verbose=1)"
   ]
  },
  {
   "cell_type": "code",
   "execution_count": 12,
   "metadata": {},
   "outputs": [
    {
     "name": "stdout",
     "output_type": "stream",
     "text": [
      "Test Score: 8.52 RMSE\n"
     ]
    }
   ],
   "source": [
    "#prediction on the original data (training data)\n",
    "Predict_n = model.predict(data_n)\n",
    "Predict = scaler.inverse_transform(Predict_n)\n",
    "testScore = math.sqrt(mean_squared_error(target, Predict))\n",
    "print('Test Score: %.2f RMSE' % (testScore))"
   ]
  },
  {
   "cell_type": "code",
   "execution_count": 13,
   "metadata": {},
   "outputs": [
    {
     "data": {
      "image/png": "[encoded data removed]",
      "text/plain": [
       "<Figure size 432x288 with 1 Axes>"
      ]
     },
     "metadata": {
      "needs_background": "light"
     },
     "output_type": "display_data"
    }
   ],
   "source": [
    "#plot of \n",
    "plt.plot(target)\n",
    "plt.plot(Predict)\n",
    "plt.legend(['original value','predicted value'],loc='upper right')\n",
    "plt.show()"
   ]
  },
  {
   "cell_type": "code",
   "execution_count": 14,
   "metadata": {},
   "outputs": [
    {
     "name": "stdout",
     "output_type": "stream",
     "text": [
      "498.075012\n",
      "[500.04364]\n"
     ]
    }
   ],
   "source": [
    "#checking a random value\n",
    "print(target[1])\n",
    "print(Predict[1])"
   ]
  },
  {
   "cell_type": "code",
   "execution_count": 15,
   "metadata": {},
   "outputs": [
    {
     "data": {
      "text/html": [
       "<div>\n",
       "<style scoped>\n",
       "    .dataframe tbody tr th:only-of-type {\n",
       "        vertical-align: middle;\n",
       "    }\n",
       "\n",
       "    .dataframe tbody tr th {\n",
       "        vertical-align: top;\n",
       "    }\n",
       "\n",
       "    .dataframe thead th {\n",
       "        text-align: right;\n",
       "    }\n",
       "</style>\n",
       "<table border=\"1\" class=\"dataframe\">\n",
       "  <thead>\n",
       "    <tr style=\"text-align: right;\">\n",
       "      <th></th>\n",
       "      <th>Date</th>\n",
       "      <th>Open</th>\n",
       "      <th>High</th>\n",
       "      <th>Low</th>\n",
       "      <th>Close</th>\n",
       "      <th>Adj Close</th>\n",
       "      <th>Volume</th>\n",
       "    </tr>\n",
       "  </thead>\n",
       "  <tbody>\n",
       "    <tr>\n",
       "      <td>0</td>\n",
       "      <td>2019-01-01</td>\n",
       "      <td>660.950012</td>\n",
       "      <td>666.299988</td>\n",
       "      <td>654.150024</td>\n",
       "      <td>665.049988</td>\n",
       "      <td>640.886658</td>\n",
       "      <td>2943390</td>\n",
       "    </tr>\n",
       "    <tr>\n",
       "      <td>1</td>\n",
       "      <td>2019-01-02</td>\n",
       "      <td>666.000000</td>\n",
       "      <td>674.000000</td>\n",
       "      <td>662.049988</td>\n",
       "      <td>669.049988</td>\n",
       "      <td>644.741272</td>\n",
       "      <td>7416655</td>\n",
       "    </tr>\n",
       "    <tr>\n",
       "      <td>2</td>\n",
       "      <td>2019-01-03</td>\n",
       "      <td>672.000000</td>\n",
       "      <td>677.000000</td>\n",
       "      <td>663.099976</td>\n",
       "      <td>669.150024</td>\n",
       "      <td>644.837646</td>\n",
       "      <td>6827249</td>\n",
       "    </tr>\n",
       "    <tr>\n",
       "      <td>3</td>\n",
       "      <td>2019-01-04</td>\n",
       "      <td>671.750000</td>\n",
       "      <td>673.900024</td>\n",
       "      <td>651.000000</td>\n",
       "      <td>661.049988</td>\n",
       "      <td>637.031982</td>\n",
       "      <td>7889310</td>\n",
       "    </tr>\n",
       "    <tr>\n",
       "      <td>4</td>\n",
       "      <td>2019-01-07</td>\n",
       "      <td>665.000000</td>\n",
       "      <td>673.599976</td>\n",
       "      <td>661.500000</td>\n",
       "      <td>671.700012</td>\n",
       "      <td>647.295044</td>\n",
       "      <td>8046340</td>\n",
       "    </tr>\n",
       "  </tbody>\n",
       "</table>\n",
       "</div>"
      ],
      "text/plain": [
       "         Date        Open        High         Low       Close   Adj Close  \\\n",
       "0  2019-01-01  660.950012  666.299988  654.150024  665.049988  640.886658   \n",
       "1  2019-01-02  666.000000  674.000000  662.049988  669.049988  644.741272   \n",
       "2  2019-01-03  672.000000  677.000000  663.099976  669.150024  644.837646   \n",
       "3  2019-01-04  671.750000  673.900024  651.000000  661.049988  637.031982   \n",
       "4  2019-01-07  665.000000  673.599976  661.500000  671.700012  647.295044   \n",
       "\n",
       "    Volume  \n",
       "0  2943390  \n",
       "1  7416655  \n",
       "2  6827249  \n",
       "3  7889310  \n",
       "4  8046340  "
      ]
     },
     "execution_count": 15,
     "metadata": {},
     "output_type": "execute_result"
    }
   ],
   "source": [
    "#new data\n",
    "test_data = pd.read_csv(\"Jan_data.csv\")\n",
    "test_data.head()"
   ]
  },
  {
   "cell_type": "code",
   "execution_count": 16,
   "metadata": {},
   "outputs": [
    {
     "data": {
      "text/plain": [
       "array([[665.049988],\n",
       "       [669.049988],\n",
       "       [669.150024],\n",
       "       [661.049988],\n",
       "       [671.700012]])"
      ]
     },
     "execution_count": 16,
     "metadata": {},
     "output_type": "execute_result"
    }
   ],
   "source": [
    "t_data = test_data.iloc[0:20,4]\n",
    "t_data=t_data.values.reshape(20,1)\n",
    "t_data[:5]"
   ]
  },
  {
   "cell_type": "code",
   "execution_count": 17,
   "metadata": {},
   "outputs": [
    {
     "name": "stdout",
     "output_type": "stream",
     "text": [
      "[0.71363366]\n",
      "dec_31: [657.89075]\n",
      "a: [0.71363366]\n"
     ]
    }
   ],
   "source": [
    "dec_31 = Predict_n[-1]\n",
    "print(dec_31)\n",
    "print('dec_31:', Predict[-1])\n",
    "pred_data =[]\n",
    "for i in range(20):\n",
    "    if i==0:\n",
    "        a=dec_31\n",
    "        print('a:',a)\n",
    "        \n",
    "    else:\n",
    "        a = b\n",
    "        \n",
    "    b = model.predict(a.reshape(1,1,1))\n",
    "    c = scaler.inverse_transform(b)\n",
    "    #print('c:',c)\n",
    "    pred_data.append(c)\n"
   ]
  },
  {
   "cell_type": "code",
   "execution_count": 18,
   "metadata": {},
   "outputs": [
    {
     "data": {
      "text/plain": [
       "array([[658.8225 ],\n",
       "       [659.74536],\n",
       "       [660.65906],\n",
       "       [661.56354],\n",
       "       [662.4589 ],\n",
       "       [663.3449 ],\n",
       "       [664.2217 ],\n",
       "       [665.089  ],\n",
       "       [665.94696],\n",
       "       [666.7955 ],\n",
       "       [667.6344 ],\n",
       "       [668.4639 ],\n",
       "       [669.2838 ],\n",
       "       [670.0941 ],\n",
       "       [670.89484],\n",
       "       [671.68604],\n",
       "       [672.4675 ],\n",
       "       [673.23956],\n",
       "       [674.0019 ],\n",
       "       [674.7545 ]], dtype=float32)"
      ]
     },
     "execution_count": 18,
     "metadata": {},
     "output_type": "execute_result"
    }
   ],
   "source": [
    "pred_data = np.asarray(pred_data).reshape(20,1)\n",
    "pred_data"
   ]
  },
  {
   "cell_type": "markdown",
   "metadata": {},
   "source": [
    "## 1. Plot of the actual closing stock price from Jan. 1, 2019 to Jan.31, 2019 to the values predicted"
   ]
  },
  {
   "cell_type": "code",
   "execution_count": 19,
   "metadata": {},
   "outputs": [
    {
     "data": {
      "image/png": "[encoded data removed]",
      "text/plain": [
       "<Figure size 432x288 with 1 Axes>"
      ]
     },
     "metadata": {
      "needs_background": "light"
     },
     "output_type": "display_data"
    }
   ],
   "source": [
    "\n",
    "plt.plot(t_data)\n",
    "plt.plot(pred_data)\n",
    "plt.legend(['original value','predicted value'],loc='upper right')\n",
    "plt.show()"
   ]
  },
  {
   "cell_type": "markdown",
   "metadata": {},
   "source": [
    "## 2. Comments on the predictions"
   ]
  },
  {
   "cell_type": "markdown",
   "metadata": {},
   "source": [
    "The original data seemed like an increasing function, hence predictions are also increasing. A positive slope is observed.\n",
    "\n",
    "It has never seen the test data i.e data of 2019 is completely new. Predictions are made on data that has never been seen while training. "
   ]
  },
  {
   "cell_type": "markdown",
   "metadata": {},
   "source": [
    "## 3. Improving the predictions"
   ]
  },
  {
   "cell_type": "markdown",
   "metadata": {},
   "source": [
    "The number of units in LSTM cell can be increased.\n",
    "The lag can be increased. (currently lag is 1 day)"
   ]
  },
  {
   "cell_type": "code",
   "execution_count": null,
   "metadata": {},
   "outputs": [],
   "source": []
  }
 ],
 "metadata": {
  "kernelspec": {
   "display_name": "Python 3",
   "language": "python",
   "name": "python3"
  },
  "language_info": {
   "codemirror_mode": {
    "name": "ipython",
    "version": 3
   },
   "file_extension": ".py",
   "mimetype": "text/x-python",
   "name": "python",
   "nbconvert_exporter": "python",
   "pygments_lexer": "ipython3",
   "version": "3.7.4"
  }
 },
 "nbformat": 4,
 "nbformat_minor": 2
}
